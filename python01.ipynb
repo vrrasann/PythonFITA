{
  "nbformat": 4,
  "nbformat_minor": 0,
  "metadata": {
    "colab": {
      "provenance": [],
      "authorship_tag": "ABX9TyPcQWCvOn9Yq+KBdkqoRX4u",
      "include_colab_link": true
    },
    "kernelspec": {
      "name": "python3",
      "display_name": "Python 3"
    },
    "language_info": {
      "name": "python"
    }
  },
  "cells": [
    {
      "cell_type": "markdown",
      "metadata": {
        "id": "view-in-github",
        "colab_type": "text"
      },
      "source": [
        "<a href=\"https://colab.research.google.com/github/vrrasann/PythonFITA/blob/main/python01.ipynb\" target=\"_parent\"><img src=\"https://colab.research.google.com/assets/colab-badge.svg\" alt=\"Open In Colab\"/></a>"
      ]
    },
    {
      "cell_type": "code",
      "execution_count": 45,
      "metadata": {
        "colab": {
          "base_uri": "https://localhost:8080/"
        },
        "id": "PzI7Lf8_ZRKx",
        "outputId": "0b1f38fa-3ccb-4bf5-b866-a0ff76c0fdb7"
      },
      "outputs": [
        {
          "output_type": "stream",
          "name": "stdout",
          "text": [
            "Hello, World!\n"
          ]
        }
      ],
      "source": [
        "#Execute Python Syntax\n",
        "#As we learned in the previous page, Python syntax can be executed by writing directly in the Command Line:\n",
        "\n",
        "print(\"Hello, World!\")"
      ]
    },
    {
      "cell_type": "code",
      "source": [
        "#Python Indentation = Indentation refers to the spaces at the beginning of a code line.\n",
        "if 5 > 2:\n",
        "  print(\"Five is greater than two!\")"
      ],
      "metadata": {
        "colab": {
          "base_uri": "https://localhost:8080/"
        },
        "id": "X_9ckrK7D-41",
        "outputId": "e9a04c3c-3b47-48ed-f6a4-02d9e7a1ef7a"
      },
      "execution_count": 1,
      "outputs": [
        {
          "output_type": "stream",
          "name": "stdout",
          "text": [
            "Five is greater than two!\n"
          ]
        }
      ]
    },
    {
      "cell_type": "code",
      "source": [
        "#Python Indentation = Indentation refers to the spaces at the beginning of a code line.\n",
        "if 3 < 6:\n",
        " print(\"Five is greater than two!\")\n",
        "if 4 < 9:\n",
        " print(\"Five is greater than two!\")\n"
      ],
      "metadata": {
        "colab": {
          "base_uri": "https://localhost:8080/"
        },
        "id": "FKD9Fq3lELMs",
        "outputId": "cdd4ad3a-2e35-4783-f9fb-2a3333a26ba0"
      },
      "execution_count": 4,
      "outputs": [
        {
          "output_type": "stream",
          "name": "stdout",
          "text": [
            "Five is greater than two!\n",
            "Five is greater than two!\n"
          ]
        }
      ]
    },
    {
      "cell_type": "code",
      "source": [
        "#This is a comment\n",
        "print(\"Hello, World!\")"
      ],
      "metadata": {
        "colab": {
          "base_uri": "https://localhost:8080/"
        },
        "id": "Imd8IV93E2-B",
        "outputId": "3b703d64-0f1e-40f9-923b-84c260b006ab"
      },
      "execution_count": 5,
      "outputs": [
        {
          "output_type": "stream",
          "name": "stdout",
          "text": [
            "Hello, World!\n"
          ]
        }
      ]
    },
    {
      "cell_type": "code",
      "source": [
        "#print(\"Hello, World!\")\n",
        "Python Variables"
      ],
      "metadata": {
        "colab": {
          "base_uri": "https://localhost:8080/"
        },
        "id": "DJBVKGpuE8d2",
        "outputId": "9a6ad3ad-4724-4490-bf7a-75954e80963b"
      },
      "execution_count": 6,
      "outputs": [
        {
          "output_type": "stream",
          "name": "stdout",
          "text": [
            "Cheers, Mate!\n"
          ]
        }
      ]
    },
    {
      "cell_type": "code",
      "source": [
        "#In Python, variables are created when you assign a value to it:print(\"Cheers, Mate!\")\n",
        "\n",
        "x = 5\n",
        "y = \"John\"\n",
        "print(x)\n",
        "print(y)"
      ],
      "metadata": {
        "colab": {
          "base_uri": "https://localhost:8080/"
        },
        "id": "pomLoOHYFDk2",
        "outputId": "bc5f7b12-c89b-4e70-9080-79b54bb626ae"
      },
      "execution_count": 7,
      "outputs": [
        {
          "output_type": "stream",
          "name": "stdout",
          "text": [
            "5\n",
            "John\n"
          ]
        }
      ]
    },
    {
      "cell_type": "code",
      "source": [
        "#Comments\n",
        "#Python has commenting capability for the purpose of in-code documentation.\n",
        "#Comments start with a #, and Python will render the rest of the line as a comment:\n",
        "\n",
        "x = 9       # x is of type int\n",
        "x = \"Sally\" # x is now of type str\n",
        "print(x)"
      ],
      "metadata": {
        "colab": {
          "base_uri": "https://localhost:8080/"
        },
        "id": "2SMtQb9fFJNI",
        "outputId": "c417d9b0-2440-41db-e690-0cb84af98ab5"
      },
      "execution_count": 9,
      "outputs": [
        {
          "output_type": "stream",
          "name": "stdout",
          "text": [
            "Sally\n"
          ]
        }
      ]
    },
    {
      "cell_type": "code",
      "source": [
        "x = str(3)\n",
        "y = int(3)\n",
        "z = float(3)"
      ],
      "metadata": {
        "id": "I-8RY_J7FT0n"
      },
      "execution_count": 10,
      "outputs": []
    },
    {
      "cell_type": "code",
      "source": [
        "x = 5\n",
        "y = \"cable\"\n",
        "print(type(x))\n",
        "print(type(y))\n"
      ],
      "metadata": {
        "colab": {
          "base_uri": "https://localhost:8080/"
        },
        "id": "CaLtO8kFFh_g",
        "outputId": "3b8e1098-ec3f-412b-f5ea-451e250ede0f"
      },
      "execution_count": 11,
      "outputs": [
        {
          "output_type": "stream",
          "name": "stdout",
          "text": [
            "<class 'int'>\n",
            "<class 'str'>\n"
          ]
        }
      ]
    },
    {
      "cell_type": "code",
      "source": [
        "x = 'cable'\n",
        "x = \"cable\"\n",
        "print(type(x))\n",
        "print (x)"
      ],
      "metadata": {
        "colab": {
          "base_uri": "https://localhost:8080/"
        },
        "id": "Tbb8zFokF0dl",
        "outputId": "b1f70b74-35d7-4f67-f145-7f298afa94ef"
      },
      "execution_count": 15,
      "outputs": [
        {
          "output_type": "stream",
          "name": "stdout",
          "text": [
            "<class 'str'>\n",
            "cable\n"
          ]
        }
      ]
    },
    {
      "cell_type": "code",
      "source": [
        "a = 4\n",
        "A = \"cable\"\n",
        "#A will not overwrite a\n",
        "print(a)\n",
        "print(A)"
      ],
      "metadata": {
        "colab": {
          "base_uri": "https://localhost:8080/"
        },
        "id": "gTPb7RzQGHuy",
        "outputId": "7f3a658a-8364-46c7-d639-ed47dff3a54a"
      },
      "execution_count": 17,
      "outputs": [
        {
          "output_type": "stream",
          "name": "stdout",
          "text": [
            "4\n",
            "cable\n"
          ]
        }
      ]
    },
    {
      "cell_type": "code",
      "source": [
        "myvar = \"prasana\"\n",
        "my_var = \"raju1\"\n",
        "_my_var = \"fita3\"\n",
        "myVar = \"rollce\"\n",
        "MYVAR = \"John\"\n",
        "myvar2 = \"John\"\n",
        "\n",
        "print(myvar)\n",
        "print(my_var)\n",
        "print(_my_var)\n",
        "print(MYVAR)\n",
        "print(myVar)"
      ],
      "metadata": {
        "colab": {
          "base_uri": "https://localhost:8080/"
        },
        "id": "2JvGrpI-GlcF",
        "outputId": "ac77910d-6247-4b46-9917-e7b17e0e6766"
      },
      "execution_count": 20,
      "outputs": [
        {
          "output_type": "stream",
          "name": "stdout",
          "text": [
            "prasana\n",
            "raju1\n",
            "fita3\n",
            "John\n",
            "rollce\n"
          ]
        }
      ]
    },
    {
      "cell_type": "code",
      "source": [
        "myVariableName = \"FITA\"\n",
        "print(myVariableName)\n"
      ],
      "metadata": {
        "colab": {
          "base_uri": "https://localhost:8080/"
        },
        "id": "bx_ulP4bHYNf",
        "outputId": "1009809d-de10-41f9-e779-026ab56ff141"
      },
      "execution_count": 21,
      "outputs": [
        {
          "output_type": "stream",
          "name": "stdout",
          "text": [
            "FITA\n"
          ]
        }
      ]
    },
    {
      "cell_type": "code",
      "source": [
        "x,y,z =  \"FITA\",\"NIIT\",\"BYJU\"\n",
        "print(x,y,z)"
      ],
      "metadata": {
        "colab": {
          "base_uri": "https://localhost:8080/"
        },
        "id": "P8_GAjobHgf8",
        "outputId": "ebfe1ba7-c98c-44b2-83e4-ec77ea95d3a1"
      },
      "execution_count": 22,
      "outputs": [
        {
          "output_type": "stream",
          "name": "stdout",
          "text": [
            "FITA NIIT BYJU\n"
          ]
        }
      ]
    },
    {
      "cell_type": "code",
      "source": [
        "x = y = z = \"FITA\"\n",
        "print(x,y,z)"
      ],
      "metadata": {
        "colab": {
          "base_uri": "https://localhost:8080/"
        },
        "id": "0Ydj8wAeHw2Z",
        "outputId": "3030b893-7ea4-4022-b3b0-764253149dde"
      },
      "execution_count": 23,
      "outputs": [
        {
          "output_type": "stream",
          "name": "stdout",
          "text": [
            "FITA FITA FITA\n"
          ]
        }
      ]
    },
    {
      "cell_type": "code",
      "source": [
        "fruits = [\"cherry\",\"papaya\",\"mango\"]\n",
        "x,y,z = fruits\n",
        "print(x,y,z)"
      ],
      "metadata": {
        "colab": {
          "base_uri": "https://localhost:8080/"
        },
        "id": "l0vPtXmvJAtx",
        "outputId": "497aa15f-6dbd-48b6-ab3d-4bd68701d520"
      },
      "execution_count": 25,
      "outputs": [
        {
          "output_type": "stream",
          "name": "stdout",
          "text": [
            "cherry papaya mango\n"
          ]
        }
      ]
    },
    {
      "cell_type": "code",
      "source": [
        "x = \"python\"\n",
        "y = \"is\"\n",
        "z = \"awesome\"\n",
        "print(x,y,z)"
      ],
      "metadata": {
        "colab": {
          "base_uri": "https://localhost:8080/"
        },
        "id": "ZwJSTzzNJbNy",
        "outputId": "5205ed69-4123-41ab-f2ef-5b32536bf661"
      },
      "execution_count": 27,
      "outputs": [
        {
          "output_type": "stream",
          "name": "stdout",
          "text": [
            "python is awesome\n"
          ]
        }
      ]
    },
    {
      "cell_type": "code",
      "source": [
        "#printing different type of string\n",
        "x = \"python\"\n",
        "y = \"is\"\n",
        "z = \"awesome\"\n",
        "print(x+y+z)\n",
        "\n"
      ],
      "metadata": {
        "colab": {
          "base_uri": "https://localhost:8080/"
        },
        "id": "Nf1org8iJq4v",
        "outputId": "34ba1fbd-c2c1-4cb2-d20b-1cfa459c1402"
      },
      "execution_count": 28,
      "outputs": [
        {
          "output_type": "stream",
          "name": "stdout",
          "text": [
            "pythonisawesome\n"
          ]
        }
      ]
    },
    {
      "cell_type": "code",
      "source": [
        "#Addition of two integer in variables\n",
        "x = 5\n",
        "y = 10\n",
        "print(x+y)"
      ],
      "metadata": {
        "colab": {
          "base_uri": "https://localhost:8080/"
        },
        "id": "mJNEjQLzKANU",
        "outputId": "0360b980-defc-4378-d36f-7d29df5b63f3"
      },
      "execution_count": 29,
      "outputs": [
        {
          "output_type": "stream",
          "name": "stdout",
          "text": [
            "15\n"
          ]
        }
      ]
    },
    {
      "cell_type": "code",
      "source": [
        "x = 5\n",
        "y = \"FITA\"\n",
        "print(x , y)"
      ],
      "metadata": {
        "colab": {
          "base_uri": "https://localhost:8080/"
        },
        "id": "_Z1u2b0eKFq5",
        "outputId": "646e4235-b08c-470d-a129-75e67581dd06"
      },
      "execution_count": 31,
      "outputs": [
        {
          "output_type": "stream",
          "name": "stdout",
          "text": [
            "5 FITA\n"
          ]
        }
      ]
    },
    {
      "cell_type": "code",
      "source": [
        "#printing functions\n",
        "x = 10\n",
        "y = \"FITA\"\n",
        "print(x,y)"
      ],
      "metadata": {
        "colab": {
          "base_uri": "https://localhost:8080/"
        },
        "id": "ZI0ZfHzuKStM",
        "outputId": "f3e78e67-6963-4323-fc82-e7f9dec13ad4"
      },
      "execution_count": 32,
      "outputs": [
        {
          "output_type": "stream",
          "name": "stdout",
          "text": [
            "10 FITA\n"
          ]
        }
      ]
    },
    {
      "cell_type": "code",
      "source": [
        "#Creating New function\n",
        "x = \"FITA\"\n",
        "def myfunc():\n",
        "  print(x)\n",
        "\n",
        "myfunc()"
      ],
      "metadata": {
        "colab": {
          "base_uri": "https://localhost:8080/"
        },
        "id": "3Z6FRwDLKfKp",
        "outputId": "62bffccd-679e-4c85-be6b-ed17b619e534"
      },
      "execution_count": 36,
      "outputs": [
        {
          "output_type": "stream",
          "name": "stdout",
          "text": [
            "FITA\n"
          ]
        }
      ]
    },
    {
      "cell_type": "code",
      "source": [
        "x = \"FITA\"\n",
        "def myfunc():\n",
        "    print(x + \"isbad\" )\n",
        "myfunc()\n",
        "y = \"FITA\"\n",
        "def myfunc():\n",
        "    print(y + \"isgood\")\n",
        "myfunc()\n"
      ],
      "metadata": {
        "colab": {
          "base_uri": "https://localhost:8080/"
        },
        "id": "l01bU6qHK4Ib",
        "outputId": "c61d23f6-82c7-4220-a1d9-7f14e8037bd0"
      },
      "execution_count": 40,
      "outputs": [
        {
          "output_type": "stream",
          "name": "stdout",
          "text": [
            "FITAisbad\n",
            "FITAisgood\n"
          ]
        }
      ]
    },
    {
      "cell_type": "code",
      "source": [
        "x = \"fita\"\n",
        "\n",
        "def myfunc():\n",
        "  x = \"is bad\"\n",
        "  print(x)\n",
        "myfunc()\n",
        "\n"
      ],
      "metadata": {
        "colab": {
          "base_uri": "https://localhost:8080/"
        },
        "id": "NJ8bSvb9L5-v",
        "outputId": "5b7cbb76-963b-4fdd-b358-d90921293963"
      },
      "execution_count": 41,
      "outputs": [
        {
          "output_type": "stream",
          "name": "stdout",
          "text": [
            "is bad\n"
          ]
        }
      ]
    },
    {
      "cell_type": "code",
      "source": [
        "#python global keyword\n",
        "x = \"fita\"\n",
        "\n",
        "def myfunc():\n",
        "  global x\n",
        "  x = \"fita is bad\"\n",
        "  print(x)\n",
        "myfunc()\n"
      ],
      "metadata": {
        "colab": {
          "base_uri": "https://localhost:8080/"
        },
        "id": "xvwIQ9gxM9db",
        "outputId": "74a9065c-5ab5-4067-e077-fd697fc06d99"
      },
      "execution_count": 43,
      "outputs": [
        {
          "output_type": "stream",
          "name": "stdout",
          "text": [
            "fita is bad\n"
          ]
        }
      ]
    },
    {
      "cell_type": "code",
      "source": [
        "#python global keyword\n",
        "\n",
        "x = \"fita\"\n",
        "\n",
        "def myfunc():\n",
        "  global x\n",
        "  x = \"fita is bad\"\n",
        "myfunc()\n",
        "\n",
        "print(x)"
      ],
      "metadata": {
        "colab": {
          "base_uri": "https://localhost:8080/"
        },
        "id": "RIxyrGlZTZ9o",
        "outputId": "b5036447-2696-4c53-e023-253575486277"
      },
      "execution_count": 44,
      "outputs": [
        {
          "output_type": "stream",
          "name": "stdout",
          "text": [
            "fita is bad\n"
          ]
        }
      ]
    }
  ]
}