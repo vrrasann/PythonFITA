{
  "nbformat": 4,
  "nbformat_minor": 0,
  "metadata": {
    "colab": {
      "provenance": [],
      "authorship_tag": "ABX9TyMFOo5Lh7wk+qkD4eM5Ur38",
      "include_colab_link": true
    },
    "kernelspec": {
      "name": "python3",
      "display_name": "Python 3"
    },
    "language_info": {
      "name": "python"
    }
  },
  "cells": [
    {
      "cell_type": "markdown",
      "metadata": {
        "id": "view-in-github",
        "colab_type": "text"
      },
      "source": [
        "<a href=\"https://colab.research.google.com/github/vrrasann/PythonFITA/blob/main/dictionariesexercise.ipynb\" target=\"_parent\"><img src=\"https://colab.research.google.com/assets/colab-badge.svg\" alt=\"Open In Colab\"/></a>"
      ]
    },
    {
      "cell_type": "code",
      "execution_count": 2,
      "metadata": {
        "colab": {
          "base_uri": "https://localhost:8080/"
        },
        "id": "ioHzxsMPS8WN",
        "outputId": "59bd66bd-31fd-4f7b-8f33-f7667e63fed1"
      },
      "outputs": [
        {
          "output_type": "stream",
          "name": "stdout",
          "text": [
            "2\n"
          ]
        }
      ],
      "source": [
        "#Write a Python program to count the number of strings from a given list of strings. The string length is 2 or more and the first and last characters are the same.\n",
        "# Define a function called match_words that takes a list of words 'words' as input\n",
        "def match_words(words):\n",
        "    # Initialize a counter 'ctr' to keep track of matching words\n",
        "    ctr = 0\n",
        "\n",
        "    # Iterate through each word in the input list 'words'\n",
        "    for word in words:\n",
        "        # Check if the word has a length greater than 1 and its first and last characters are the same\n",
        "        if len(word) > 1 and word[0] == word[-1]:\n",
        "            # If the condition is met, increment the counter 'ctr'\n",
        "            ctr += 1\n",
        "\n",
        "    # Return the final count of matching words\n",
        "    return ctr\n",
        "\n",
        "# Call the match_words function with the list ['abc', 'xyz', 'aba', '1221'] as input and print the result\n",
        "print(match_words(['abc', 'xyz', 'aba', '1221','8992']))"
      ]
    },
    {
      "cell_type": "code",
      "source": [
        "#1. Write a Python program to sum all the items in a list.\n",
        "l=[1,2,3,4,5]\n",
        "sum(l)\n",
        "print(l)"
      ],
      "metadata": {
        "colab": {
          "base_uri": "https://localhost:8080/"
        },
        "id": "vV99rMK2VJW6",
        "outputId": "83e6af06-0783-4f13-8278-eeea9bcca7ed"
      },
      "execution_count": 3,
      "outputs": [
        {
          "output_type": "stream",
          "name": "stdout",
          "text": [
            "[1, 2, 3, 4, 5]\n"
          ]
        }
      ]
    },
    {
      "cell_type": "code",
      "source": [
        "# Python | Sort Python Dictionaries by Key or Value\n",
        "\n",
        "sortdict={19:'banana', 12:'apple',33:'orange'}\n",
        "s = list(sortdict)\n",
        "s.sort()\n",
        "print(s)\n",
        "\n",
        "#sortdictkey=dict(sorted(sortdict.keys()))\n",
        "#print(sortdictkey)"
      ],
      "metadata": {
        "colab": {
          "base_uri": "https://localhost:8080/"
        },
        "id": "eLwmhNcUVnu0",
        "outputId": "e822dde2-fc2f-4df8-b0da-298f0fd24e36"
      },
      "execution_count": 10,
      "outputs": [
        {
          "output_type": "stream",
          "name": "stdout",
          "text": [
            "[12, 19, 33]\n"
          ]
        }
      ]
    },
    {
      "cell_type": "code",
      "source": [
        "myDict = {'ravi': 10, 'rajnish': 9,\n",
        "\t\t'sanjeev': 15, 'yash': 2, 'suraj': 32}\n",
        "\n",
        "myKeys = list(myDict.keys())\n",
        "myKeys.sort()\n",
        "sorted_dict = {i: myDict[i] for i in myKeys}\n",
        "\n",
        "print(sorted_dict)\n",
        "\n",
        "myvalue = list(myDict.values())\n",
        "myvalue.sort()\n",
        "sorted_dict1 = {i: myDict[i] for i in myKeys}\n",
        "print(sorted_dict1)"
      ],
      "metadata": {
        "colab": {
          "base_uri": "https://localhost:8080/"
        },
        "id": "wCI69K_yYaeR",
        "outputId": "c4177649-f74c-4b6b-c598-b22b43a4d8b9"
      },
      "execution_count": 13,
      "outputs": [
        {
          "output_type": "stream",
          "name": "stdout",
          "text": [
            "{'rajnish': 9, 'ravi': 10, 'sanjeev': 15, 'suraj': 32, 'yash': 2}\n",
            "{'rajnish': 9, 'ravi': 10, 'sanjeev': 15, 'suraj': 32, 'yash': 2}\n"
          ]
        }
      ]
    },
    {
      "cell_type": "code",
      "source": [
        "#Handling Missing Keys\n",
        "myDict = {'ravi': 10, 'rajnish': 9,\n",
        "\t\t'sanjeev': 15, 'yash': 2, 'suraj': 32}\n",
        "\n",
        "myKeys = list(myDict.keys())\n",
        "myKeys.sort()\n",
        "sorted_dict = {key: myDict[key] for key in myKeys if key in myDict}\n",
        "print(sorted_dict)"
      ],
      "metadata": {
        "colab": {
          "base_uri": "https://localhost:8080/"
        },
        "id": "wV1nPGRyZ0zu",
        "outputId": "02c50f2f-c1a3-4ac5-c538-54c29578f856"
      },
      "execution_count": 18,
      "outputs": [
        {
          "output_type": "stream",
          "name": "stdout",
          "text": [
            "{'rajnish': 9, 'ravi': 10, 'sanjeev': 15, 'suraj': 32, 'yash': 2}\n"
          ]
        }
      ]
    },
    {
      "cell_type": "code",
      "source": [
        "# Original dictionary with keys as tuples\n",
        "myDict = {('ravi', 'A'): 10, ('rajnish', 'B'): 9, ('sanjeev', 'C'): 15, ('yash', 'A'): 2, ('suraj', 'B'): 32}\n",
        "\n",
        "# Get the list of keys and sort them\n",
        "myKeys = list(myDict.keys())\n",
        "myKeys.sort()\n",
        "\n",
        "# Create a sorted dictionary\n",
        "sorted_dict = {key: myDict[key] for key in myKeys}\n",
        "\n",
        "# Print the sorted dictionary\n",
        "print(\"Sorted dictionary:\", sorted_dict)\n"
      ],
      "metadata": {
        "colab": {
          "base_uri": "https://localhost:8080/"
        },
        "id": "I8_lYni_bBd1",
        "outputId": "03cda9e0-447b-465e-b6d4-f7689da47dc1"
      },
      "execution_count": 19,
      "outputs": [
        {
          "output_type": "stream",
          "name": "stdout",
          "text": [
            "Sorted dictionary: {('rajnish', 'B'): 9, ('ravi', 'A'): 10, ('sanjeev', 'C'): 15, ('suraj', 'B'): 32, ('yash', 'A'): 2}\n"
          ]
        }
      ]
    },
    {
      "cell_type": "code",
      "source": [
        "myDict = {'ravi': 10, 'rajnish': 9, 'sanjeev': 15, ' ': 5, 'suraj': 32}\n",
        "\n",
        "# Get the list of keys and sort them\n",
        "myKeys = list(myDict.keys())\n",
        "myKeys.sort()\n",
        "\n",
        "# Create a sorted dictionary with an if-else condition to handle missing keys\n",
        "sorted_dict = {}\n",
        "\n",
        "for key in myKeys:\n",
        "    if key in myDict:\n",
        "        sorted_dict[key] = myDict[key]\n",
        "    else:\n",
        "        # Handle missing key, for example, assign a default value\n",
        "        sorted_dict[key] = \"Key not found\"\n",
        "\n",
        "# Print the sorted dictionary\n",
        "print(\"Sorted dictionary with missing key handling:\", sorted_dict)\n"
      ],
      "metadata": {
        "colab": {
          "base_uri": "https://localhost:8080/"
        },
        "id": "GAh2xHxQdVMQ",
        "outputId": "ae16fd99-0204-4c18-8466-ebd967056d37"
      },
      "execution_count": 22,
      "outputs": [
        {
          "output_type": "stream",
          "name": "stdout",
          "text": [
            "Sorted dictionary with missing key handling: {' ': 5, 'rajnish': 9, 'ravi': 10, 'sanjeev': 15, 'suraj': 32}\n"
          ]
        }
      ]
    },
    {
      "cell_type": "code",
      "source": [
        "# Python code to demonstrate Dictionary and\n",
        "# missing value error\n",
        "d = { 'a' : 1 , 'b' : 2 }\n",
        "\n",
        "# trying to output value of absent key\n",
        "print (\"The value associated with 'c' is : \")\n",
        "print (d['c'])"
      ],
      "metadata": {
        "colab": {
          "base_uri": "https://localhost:8080/",
          "height": 227
        },
        "id": "E_2F-Tx3d5ZV",
        "outputId": "43882631-4f9b-4ba0-adce-29d5ea12cb7f"
      },
      "execution_count": 24,
      "outputs": [
        {
          "output_type": "stream",
          "name": "stdout",
          "text": [
            "The value associated with 'c' is : \n"
          ]
        },
        {
          "output_type": "error",
          "ename": "KeyError",
          "evalue": "ignored",
          "traceback": [
            "\u001b[0;31m---------------------------------------------------------------------------\u001b[0m",
            "\u001b[0;31mKeyError\u001b[0m                                  Traceback (most recent call last)",
            "\u001b[0;32m<ipython-input-24-5c9bac2f9645>\u001b[0m in \u001b[0;36m<cell line: 7>\u001b[0;34m()\u001b[0m\n\u001b[1;32m      5\u001b[0m \u001b[0;31m# trying to output value of absent key\u001b[0m\u001b[0;34m\u001b[0m\u001b[0;34m\u001b[0m\u001b[0m\n\u001b[1;32m      6\u001b[0m \u001b[0mprint\u001b[0m \u001b[0;34m(\u001b[0m\u001b[0;34m\"The value associated with 'c' is : \"\u001b[0m\u001b[0;34m)\u001b[0m\u001b[0;34m\u001b[0m\u001b[0;34m\u001b[0m\u001b[0m\n\u001b[0;32m----> 7\u001b[0;31m \u001b[0mprint\u001b[0m \u001b[0;34m(\u001b[0m\u001b[0md\u001b[0m\u001b[0;34m[\u001b[0m\u001b[0;34m'c'\u001b[0m\u001b[0;34m]\u001b[0m\u001b[0;34m)\u001b[0m\u001b[0;34m\u001b[0m\u001b[0;34m\u001b[0m\u001b[0m\n\u001b[0m",
            "\u001b[0;31mKeyError\u001b[0m: 'c'"
          ]
        }
      ]
    },
    {
      "cell_type": "code",
      "source": [
        "# Original dictionary with keys having multiple inputs (tuples)\n",
        "myDict = {('ravi', 'A'): 10, ('rajnish', 'B'): 9, ('sanjeev', 'C'): 15, ('yash', 'A'): 2, ('suraj', 'B'): 32}\n",
        "\n",
        "# Get the list of keys and sort them\n",
        "myKeys = list(myDict.keys())\n",
        "myKeys.sort()\n",
        "\n",
        "# Create a sorted dictionary\n",
        "sorted_dict = {key: myDict[key] for key in myKeys}\n",
        "\n",
        "# Print the sorted dictionary\n",
        "print(\"Sorted dictionary with keys having multiple inputs:\", sorted_dict)\n"
      ],
      "metadata": {
        "colab": {
          "base_uri": "https://localhost:8080/"
        },
        "id": "ec64UBQ8fIq6",
        "outputId": "b924eb56-f273-4ef9-b80a-4c8d1b973b52"
      },
      "execution_count": 25,
      "outputs": [
        {
          "output_type": "stream",
          "name": "stdout",
          "text": [
            "Sorted dictionary with keys having multiple inputs: {('rajnish', 'B'): 9, ('ravi', 'A'): 10, ('sanjeev', 'C'): 15, ('suraj', 'B'): 32, ('yash', 'A'): 2}\n"
          ]
        }
      ]
    }
  ]
}