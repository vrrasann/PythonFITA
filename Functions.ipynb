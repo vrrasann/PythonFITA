{
  "nbformat": 4,
  "nbformat_minor": 0,
  "metadata": {
    "colab": {
      "provenance": [],
      "authorship_tag": "ABX9TyNopWhSNahNFnkr/KW9HRkq",
      "include_colab_link": true
    },
    "kernelspec": {
      "name": "python3",
      "display_name": "Python 3"
    },
    "language_info": {
      "name": "python"
    }
  },
  "cells": [
    {
      "cell_type": "markdown",
      "metadata": {
        "id": "view-in-github",
        "colab_type": "text"
      },
      "source": [
        "<a href=\"https://colab.research.google.com/github/vrrasann/PythonFITA/blob/main/Functions.ipynb\" target=\"_parent\"><img src=\"https://colab.research.google.com/assets/colab-badge.svg\" alt=\"Open In Colab\"/></a>"
      ]
    },
    {
      "cell_type": "code",
      "execution_count": null,
      "metadata": {
        "colab": {
          "base_uri": "https://localhost:8080/"
        },
        "id": "OxnIl72UL2E-",
        "outputId": "fd8c9f2c-0487-4966-8453-4110fe883086"
      },
      "outputs": [
        {
          "output_type": "stream",
          "name": "stdout",
          "text": [
            "42\n",
            "4\n",
            "<class 'list'>\n",
            "34\n",
            "1\n"
          ]
        }
      ],
      "source": [
        "a=[1,2,34,5]\n",
        "print(sum(a))\n",
        "print(len(a))\n",
        "print(type(a))\n",
        "print(max(a))\n",
        "print(min(a))"
      ]
    },
    {
      "cell_type": "code",
      "source": [
        "n=abs(-3)\n",
        "print(n)"
      ],
      "metadata": {
        "colab": {
          "base_uri": "https://localhost:8080/"
        },
        "id": "kphMuv-iMRTp",
        "outputId": "1095399c-42ae-49c9-ccbc-81ba68a10f3a"
      },
      "execution_count": null,
      "outputs": [
        {
          "output_type": "stream",
          "name": "stdout",
          "text": [
            "3\n"
          ]
        }
      ]
    },
    {
      "cell_type": "code",
      "source": [
        "n=bool(3)\n",
        "print(n)"
      ],
      "metadata": {
        "colab": {
          "base_uri": "https://localhost:8080/"
        },
        "id": "bSkoa0DsMzSD",
        "outputId": "1a4280eb-0c8d-4e49-fdd4-014e23012dee"
      },
      "execution_count": null,
      "outputs": [
        {
          "output_type": "stream",
          "name": "stdout",
          "text": [
            "True\n"
          ]
        }
      ]
    },
    {
      "cell_type": "code",
      "source": [
        "b=ord('n')\n",
        "print(b)"
      ],
      "metadata": {
        "colab": {
          "base_uri": "https://localhost:8080/"
        },
        "id": "TLvgW7DYM99S",
        "outputId": "29e7be14-012e-4c32-f148-9f41e956f8bc"
      },
      "execution_count": null,
      "outputs": [
        {
          "output_type": "stream",
          "name": "stdout",
          "text": [
            "110\n"
          ]
        }
      ]
    },
    {
      "cell_type": "code",
      "source": [
        "n=ascii('$')\n",
        "print(n)\n"
      ],
      "metadata": {
        "colab": {
          "base_uri": "https://localhost:8080/"
        },
        "id": "DEYJKZ5GNM_V",
        "outputId": "ed9efdb2-cdce-44ab-b0db-6e34dd331387"
      },
      "execution_count": null,
      "outputs": [
        {
          "output_type": "stream",
          "name": "stdout",
          "text": [
            "'$'\n"
          ]
        }
      ]
    },
    {
      "cell_type": "code",
      "source": [
        "d=bin(3)\n",
        "print(d)"
      ],
      "metadata": {
        "colab": {
          "base_uri": "https://localhost:8080/"
        },
        "id": "GzMeaGYBNZTl",
        "outputId": "9263bfb0-4b5d-4f81-f104-9a48bec78fff"
      },
      "execution_count": null,
      "outputs": [
        {
          "output_type": "stream",
          "name": "stdout",
          "text": [
            "0b11\n"
          ]
        }
      ]
    },
    {
      "cell_type": "code",
      "source": [
        "e=oct(10)\n",
        "print(e)"
      ],
      "metadata": {
        "colab": {
          "base_uri": "https://localhost:8080/"
        },
        "id": "ILxAhRIGNlPL",
        "outputId": "7bf148bb-807c-472e-ba0e-7b61c4d542f4"
      },
      "execution_count": null,
      "outputs": [
        {
          "output_type": "stream",
          "name": "stdout",
          "text": [
            "0o12\n"
          ]
        }
      ]
    },
    {
      "cell_type": "code",
      "source": [
        "f=hex(20)\n",
        "print(f)"
      ],
      "metadata": {
        "colab": {
          "base_uri": "https://localhost:8080/"
        },
        "id": "kBDWVEmwNm1S",
        "outputId": "1e3a9b0c-89e8-49f5-8719-118f6abeb416"
      },
      "execution_count": null,
      "outputs": [
        {
          "output_type": "stream",
          "name": "stdout",
          "text": [
            "0x14\n"
          ]
        }
      ]
    },
    {
      "cell_type": "code",
      "source": [
        "t=(1,2,3)\n",
        "t1=(4,5,6)\n",
        "t2=zip(t,t1)\n",
        "print(dict(t2))"
      ],
      "metadata": {
        "colab": {
          "base_uri": "https://localhost:8080/"
        },
        "id": "4OwnjBFRNrni",
        "outputId": "08f2715d-6ad1-4d70-d844-7e4d28a2f275"
      },
      "execution_count": null,
      "outputs": [
        {
          "output_type": "stream",
          "name": "stdout",
          "text": [
            "{1: 4, 2: 5, 3: 6}\n"
          ]
        }
      ]
    },
    {
      "cell_type": "code",
      "source": [
        "a=40\n",
        "def add():\n",
        "\n",
        "\n",
        "    global a\n",
        "    a=55 #local Scope\n",
        "    b=10\n",
        "    print(a+b)"
      ],
      "metadata": {
        "id": "gs4cUXHoNx47"
      },
      "execution_count": null,
      "outputs": []
    },
    {
      "cell_type": "code",
      "source": [
        "add()"
      ],
      "metadata": {
        "colab": {
          "base_uri": "https://localhost:8080/"
        },
        "id": "MxRAcbpJN8RS",
        "outputId": "2ff5f8de-d4fd-4396-f6ed-2819d5ad4150"
      },
      "execution_count": null,
      "outputs": [
        {
          "output_type": "stream",
          "name": "stdout",
          "text": [
            "65\n"
          ]
        }
      ]
    },
    {
      "cell_type": "code",
      "source": [
        "print(a)"
      ],
      "metadata": {
        "colab": {
          "base_uri": "https://localhost:8080/"
        },
        "id": "gA2SUzJlOH1y",
        "outputId": "4958a281-de5d-4752-e655-506d73640f03"
      },
      "execution_count": null,
      "outputs": [
        {
          "output_type": "stream",
          "name": "stdout",
          "text": [
            "55\n"
          ]
        }
      ]
    },
    {
      "cell_type": "code",
      "source": [
        "def sub(a,b):\n",
        "    # definition\n",
        "    c=a>b\n",
        "    print(c)\n"
      ],
      "metadata": {
        "id": "6t5LSKxpONSy"
      },
      "execution_count": null,
      "outputs": []
    },
    {
      "cell_type": "code",
      "source": [
        "sub(8,0)"
      ],
      "metadata": {
        "colab": {
          "base_uri": "https://localhost:8080/"
        },
        "id": "tjym2tHEOSJy",
        "outputId": "aa120fc2-6dfc-4be4-b298-9632856c85f8"
      },
      "execution_count": null,
      "outputs": [
        {
          "output_type": "stream",
          "name": "stdout",
          "text": [
            "True\n"
          ]
        }
      ]
    },
    {
      "cell_type": "code",
      "source": [
        "def mul(a=5,b=7): #default value\n",
        "    print(a*b)"
      ],
      "metadata": {
        "id": "0fLqjbzuOX1L"
      },
      "execution_count": null,
      "outputs": []
    },
    {
      "cell_type": "code",
      "source": [
        "mul()\n",
        "mul(3,9)"
      ],
      "metadata": {
        "colab": {
          "base_uri": "https://localhost:8080/"
        },
        "id": "ABXXolCzOoW7",
        "outputId": "18851d83-6065-4107-fd07-048bed34292b"
      },
      "execution_count": null,
      "outputs": [
        {
          "output_type": "stream",
          "name": "stdout",
          "text": [
            "35\n",
            "27\n"
          ]
        }
      ]
    },
    {
      "cell_type": "code",
      "source": [
        "powe=lambda a,b,c:a**b+c\n",
        "print(powe(5,4,0))"
      ],
      "metadata": {
        "colab": {
          "base_uri": "https://localhost:8080/"
        },
        "id": "y8pSe5pPOxOH",
        "outputId": "4b3b6ba0-b896-4529-95bf-d0010116b386"
      },
      "execution_count": null,
      "outputs": [
        {
          "output_type": "stream",
          "name": "stdout",
          "text": [
            "625\n"
          ]
        }
      ]
    },
    {
      "cell_type": "code",
      "source": [
        "def check_odd_even(number):\n",
        "    if number % 2 == 0:\n",
        "        return \"Even\"\n",
        "    else:\n",
        "        return \"Odd\"\n",
        "\n",
        "user_input = int(input(\"Enter a number: \"))\n",
        "\n",
        "result = check_odd_even(user_input)\n",
        "print(f\"The number {user_input} is {result}.\")\n"
      ],
      "metadata": {
        "id": "gvV1MoJWR8EW"
      },
      "execution_count": null,
      "outputs": []
    },
    {
      "cell_type": "code",
      "source": [
        "\n"
      ],
      "metadata": {
        "colab": {
          "base_uri": "https://localhost:8080/",
          "height": 140
        },
        "id": "r3YtuirISFBV",
        "outputId": "eafe28b6-fe76-408f-8e93-0a885ca3ae01"
      },
      "execution_count": null,
      "outputs": [
        {
          "output_type": "error",
          "ename": "IndentationError",
          "evalue": "ignored",
          "traceback": [
            "\u001b[0;36m  File \u001b[0;32m\"<tokenize>\"\u001b[0;36m, line \u001b[0;32m6\u001b[0m\n\u001b[0;31m    user_input = int(2,3)\u001b[0m\n\u001b[0m    ^\u001b[0m\n\u001b[0;31mIndentationError\u001b[0m\u001b[0;31m:\u001b[0m unindent does not match any outer indentation level\n"
          ]
        }
      ]
    },
    {
      "cell_type": "code",
      "source": [
        "def is_leap_year(year):\n",
        "    if (year % 4 == 0 ):\n",
        "        return True\n",
        "    else:\n",
        "        return False\n",
        "\n",
        "# Input: Get a year from the user\n",
        "user_input = int(input(\"Enter a year: \"))\n",
        "\n",
        "# Call the function and print the result\n",
        "if is_leap_year(user_input):\n",
        "    print(f\"{user_input} is a Leap Year.\")\n",
        "else:\n",
        "    print(f\"{user_input} is not a Leap Year.\")\n"
      ],
      "metadata": {
        "colab": {
          "base_uri": "https://localhost:8080/"
        },
        "id": "Tos5loFoDhd2",
        "outputId": "5240c63d-bd5c-4c98-eb85-ad38f9162cfc"
      },
      "execution_count": null,
      "outputs": [
        {
          "output_type": "stream",
          "name": "stdout",
          "text": [
            "Enter a year: 24\n",
            "24 is a Leap Year.\n"
          ]
        }
      ]
    },
    {
      "cell_type": "code",
      "source": [
        "def find_largest(num1, num2, num3):\n",
        "    if num1 >= num2 and num1 >= num3:\n",
        "        return num1\n",
        "    elif num2 >= num1 and num2 >= num3:\n",
        "        return num2\n",
        "    else:\n",
        "        return num3\n",
        "\n",
        "# Input: Get three numbers from the user\n",
        "num1 = float(input(\"Enter the first number: \"))\n",
        "num2 = float(input(\"Enter the second number: \"))\n",
        "num3 = float(input(\"Enter the third number: \"))\n",
        "\n",
        "# Call the function and print the result\n",
        "largest_number = find_largest(num1, num2, num3)\n",
        "print(f\"The largest number among {num1}, {num2}, and {num3} is {largest_number}.\")\n"
      ],
      "metadata": {
        "id": "8YJDCggsD_7_"
      },
      "execution_count": null,
      "outputs": []
    },
    {
      "cell_type": "code",
      "source": [
        "def is_prime(number):\n",
        "    if number <= 1:\n",
        "        return False\n",
        "    for i in range(2, int(number**0.5) + 1):\n",
        "        if number % i == 0:\n",
        "            return False\n",
        "    return True\n",
        "\n",
        "# Input: Get a number from the user\n",
        "user_input = int(input(\"Enter a number: \"))\n",
        "\n",
        "# Call the function and print the result\n",
        "if is_prime(user_input):\n",
        "    print(f\"{user_input} is a Prime Number.\")\n",
        "else:\n",
        "    print(f\"{user_input} is not a Prime Number.\")\n"
      ],
      "metadata": {
        "colab": {
          "base_uri": "https://localhost:8080/"
        },
        "id": "OX9DA6YeEORD",
        "outputId": "19aaeb6d-21e6-41fb-f305-c04732ff4da8"
      },
      "execution_count": null,
      "outputs": [
        {
          "output_type": "stream",
          "name": "stdout",
          "text": [
            "Enter a number: 13\n",
            "13 is a Prime Number.\n"
          ]
        }
      ]
    },
    {
      "cell_type": "code",
      "source": [
        "def is_prime(number):\n",
        "    if number <= 1:\n",
        "        return False\n",
        "    for i in range(2, int(number**0.5) + 1):\n",
        "        if number % i == 0:\n",
        "            return False\n",
        "    return True\n",
        "\n",
        "def print_primes_in_interval(start, end):\n",
        "    print(f\"Prime numbers between {start} and {end}:\")\n",
        "    for num in range(start, end + 1):\n",
        "        if is_prime(num):\n",
        "            print(num)\n",
        "\n",
        "# Input: Get interval from the user\n",
        "start_num = int(input(\"Enter the start of the interval: \"))\n",
        "end_num = int(input(\"Enter the end of the interval: \"))\n",
        "\n",
        "# Call the function to print prime numbers in the interval\n",
        "print_primes_in_interval(start_num, end_num)\n"
      ],
      "metadata": {
        "colab": {
          "base_uri": "https://localhost:8080/"
        },
        "id": "NZRBQaIaEiM6",
        "outputId": "4aa2f7ae-d366-490a-9066-13c14d8ec59c"
      },
      "execution_count": null,
      "outputs": [
        {
          "output_type": "stream",
          "name": "stdout",
          "text": [
            "Enter the start of the interval: 2\n",
            "Enter the end of the interval: 99\n",
            "Prime numbers between 2 and 99:\n",
            "2\n",
            "3\n",
            "5\n",
            "7\n",
            "11\n",
            "13\n",
            "17\n",
            "19\n",
            "23\n",
            "29\n",
            "31\n",
            "37\n",
            "41\n",
            "43\n",
            "47\n",
            "53\n",
            "59\n",
            "61\n",
            "67\n",
            "71\n",
            "73\n",
            "79\n",
            "83\n",
            "89\n",
            "97\n"
          ]
        }
      ]
    },
    {
      "cell_type": "code",
      "source": [
        "def factorial(n):\n",
        "    if n == 0 or n == 1:\n",
        "        return 1\n",
        "    else:\n",
        "        return n * factorial(n - 1)\n",
        "\n",
        "# Input: Get a number from the user\n",
        "user_input = int(input(\"Enter a number: \"))\n",
        "\n",
        "# Call the function and print the result\n",
        "if user_input < 0:\n",
        "    print(\"Factorial is not defined for negative numbers.\")\n",
        "else:\n",
        "    result = factorial(user_input)\n",
        "    print(f\"The factorial of {user_input} is {result}.\")\n"
      ],
      "metadata": {
        "colab": {
          "base_uri": "https://localhost:8080/"
        },
        "id": "iEJrazaAE0sQ",
        "outputId": "43385f90-17cf-41f1-ac5d-7b319e96c815"
      },
      "execution_count": null,
      "outputs": [
        {
          "output_type": "stream",
          "name": "stdout",
          "text": [
            "Enter a number: -23\n",
            "Factorial is not defined for negative numbers.\n"
          ]
        }
      ]
    },
    {
      "cell_type": "code",
      "source": [
        "def multiplication_table(number, n):\n",
        "    print(f\"Multiplication Table for {number} up to {n}:\")\n",
        "    for i in range(1, n + 1):\n",
        "        result = number * i\n",
        "        print(f\"{number} x {i} = {result}\")\n",
        "\n",
        "# Input: Get a number from the user\n",
        "user_input = int(input(\"Enter a number for the multiplication table: \"))\n",
        "table_up_to = int(input(\"Enter how many multiples to display: \"))\n",
        "\n",
        "# Call the function to display the multiplication table\n",
        "multiplication_table(user_input, table_up_to)\n"
      ],
      "metadata": {
        "colab": {
          "base_uri": "https://localhost:8080/"
        },
        "id": "0t6w_HOqFBRm",
        "outputId": "bef27ea1-c235-4618-f6bf-145f7e907078"
      },
      "execution_count": null,
      "outputs": [
        {
          "output_type": "stream",
          "name": "stdout",
          "text": [
            "Enter a number for the multiplication table: 3\n",
            "Enter how many multiples to display: 5\n",
            "Multiplication Table for 3 up to 5:\n",
            "3 x 1 = 3\n",
            "3 x 2 = 6\n",
            "3 x 3 = 9\n",
            "3 x 4 = 12\n",
            "3 x 5 = 15\n"
          ]
        }
      ]
    },
    {
      "cell_type": "code",
      "source": [
        "def fibonacci_sequence(n):\n",
        "    fib_sequence = []\n",
        "    a, b = 0, 1\n",
        "    for _ in range(n):\n",
        "        fib_sequence.append(a)\n",
        "        a, b = b, a + b\n",
        "    return fib_sequence\n",
        "\n",
        "# Input: Get the number of terms from the user\n",
        "num_terms = int(input(\"Enter the number of terms for the Fibonacci sequence: \"))\n",
        "\n",
        "# Call the function to get and print the Fibonacci sequence\n",
        "fib_sequence_result = fibonacci_sequence(num_terms)\n",
        "print(f\"Fibonacci sequence up to {num_terms} terms: {fib_sequence_result}\")\n"
      ],
      "metadata": {
        "id": "6VxHqtEJFw5J",
        "outputId": "fecfe6b9-f969-4aeb-b276-35e14a947544",
        "colab": {
          "base_uri": "https://localhost:8080/"
        }
      },
      "execution_count": null,
      "outputs": [
        {
          "output_type": "stream",
          "name": "stdout",
          "text": [
            "Enter the number of terms for the Fibonacci sequence: 54\n",
            "Fibonacci sequence up to 54 terms: [0, 1, 1, 2, 3, 5, 8, 13, 21, 34, 55, 89, 144, 233, 377, 610, 987, 1597, 2584, 4181, 6765, 10946, 17711, 28657, 46368, 75025, 121393, 196418, 317811, 514229, 832040, 1346269, 2178309, 3524578, 5702887, 9227465, 14930352, 24157817, 39088169, 63245986, 102334155, 165580141, 267914296, 433494437, 701408733, 1134903170, 1836311903, 2971215073, 4807526976, 7778742049, 12586269025, 20365011074, 32951280099, 53316291173]\n"
          ]
        }
      ]
    }
  ]
}